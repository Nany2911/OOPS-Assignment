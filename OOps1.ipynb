{
 "cells": [
  {
   "cell_type": "markdown",
   "id": "2cdde208",
   "metadata": {},
   "source": [
    "# Q1. Explain Class and Object with respect to Object-Oriented Programming. Give a suitable example."
   ]
  },
  {
   "cell_type": "markdown",
   "id": "e338e668",
   "metadata": {},
   "source": [
    "###  Class:\n",
    "The\tclass\tis\ta single\tmost\timportant\tpython\tfeature\tthat\timplements\tOOP\tconcepts\tand\t\n",
    "ties\tthem together. Classes\tare\tneeded\tto\trepresent\treal-world entities. A class\tis\ta\t\n",
    "way\t to\t bind\t the\t data describing\t an\t entity\t and\t its\t associated\t functions\t\n",
    "together. For instance,\t consider\t a user having\t\n",
    "characteristics username and password and\t some\t of its associated\t operations\t\n",
    "are sign\tup, sign\tin and logout.\n",
    "### object:\n",
    "  Class\tis\tjust\ta\ttemplate, which\tdeclares\tand\tdefines\tcharacteristics\tand behavior,\t\n",
    "hence\twe\tneed\tto\tdeclare objects\tof\tthe class\tfor\tit\tto\tbe\tusable.\tIn other words\t\n",
    "class represents a\tgroup\tof\tsimilar\tobjects.\n"
   ]
  },
  {
   "cell_type": "code",
   "execution_count": 36,
   "id": "559a9098",
   "metadata": {},
   "outputs": [],
   "source": [
    "## suitable example:\n",
    "class car:\n",
    "    def __init__(self,window,doors,enginetype):\n",
    "        self.window=window\n",
    "        self.Door=doors\n",
    "        self.Enginetype=enginetype\n",
    "    def return__detail(self):\n",
    "        return self.Window,self.Door,self.Enginetype\n"
   ]
  },
  {
   "cell_type": "code",
   "execution_count": 18,
   "id": "ca44325d",
   "metadata": {},
   "outputs": [],
   "source": [
    "audi1=car(4,3,\"disel engine\")"
   ]
  },
  {
   "cell_type": "code",
   "execution_count": 19,
   "id": "8beac642",
   "metadata": {},
   "outputs": [
    {
     "data": {
      "text/plain": [
       "4"
      ]
     },
     "execution_count": 19,
     "metadata": {},
     "output_type": "execute_result"
    }
   ],
   "source": [
    "audi1.window"
   ]
  },
  {
   "cell_type": "code",
   "execution_count": 20,
   "id": "976e2538",
   "metadata": {},
   "outputs": [
    {
     "data": {
      "text/plain": [
       "3"
      ]
     },
     "execution_count": 20,
     "metadata": {},
     "output_type": "execute_result"
    }
   ],
   "source": [
    "audi1.Door"
   ]
  },
  {
   "cell_type": "code",
   "execution_count": 35,
   "id": "5be03849",
   "metadata": {},
   "outputs": [
    {
     "data": {
      "text/plain": [
       "'disel engine'"
      ]
     },
     "execution_count": 35,
     "metadata": {},
     "output_type": "execute_result"
    }
   ],
   "source": [
    "audi1.Enginetype"
   ]
  },
  {
   "cell_type": "markdown",
   "id": "5842c97a",
   "metadata": {},
   "source": [
    "# Q2. Name the four pillars of OOPs.\n",
    " ANS: \n",
    " Object-Oriented Programming Four pillars:\n",
    "\n",
    "● Abstraction\n",
    "\n",
    "● Encapsulation\n",
    "\n",
    "● Inheritance\n",
    "\n",
    "● Polymorphism\n"
   ]
  },
  {
   "cell_type": "markdown",
   "id": "59cd276d",
   "metadata": {},
   "source": [
    "# Q3. Explain why the __init__() function is used. Give a suitable example.\n",
    "  The __init__() Function:\n",
    "The examples above are classes and objects in their simplest form, and are not really useful in real life applications.\n",
    "To understand the meaning of classes we have to understand the built-in __init__() function.\n",
    "All classes have a function called __init__(), which is always executed when the class is being initiated."
   ]
  },
  {
   "cell_type": "code",
   "execution_count": 38,
   "id": "780f497b",
   "metadata": {},
   "outputs": [
    {
     "name": "stdout",
     "output_type": "stream",
     "text": [
      "John\n",
      "36\n"
     ]
    }
   ],
   "source": [
    "class Person:\n",
    "  def __init__(self, name, age):\n",
    "    self.name = name\n",
    "    self.age = age\n",
    "\n",
    "p1 = Person(\"John\", 36)\n",
    "\n",
    "print(p1.name)\n",
    "print(p1.age)"
   ]
  },
  {
   "cell_type": "markdown",
   "id": "3ac642e1",
   "metadata": {},
   "source": [
    "# Q4. Why self is used in OOPs?\n",
    "\n",
    "self represents the instance of the class. By using the “self”  we can access the attributes and methods of the class in python. It binds the attributes with the given arguments."
   ]
  },
  {
   "cell_type": "markdown",
   "id": "42dc320f",
   "metadata": {},
   "source": [
    "# Q5. What is inheritance? Give an example for each type of inheritance.\n",
    "Python Inheritance:\n",
    "Inheritance allows us to define a class that inherits all the methods and properties from another class.\n",
    "\n",
    "Parent class is the class being inherited from, also called base class.\n",
    "\n",
    "Child class is the class that inherits from another class, also called derived class.\n",
    "\n"
   ]
  },
  {
   "cell_type": "code",
   "execution_count": 39,
   "id": "1a7431bc",
   "metadata": {},
   "outputs": [
    {
     "name": "stdout",
     "output_type": "stream",
     "text": [
      "John Doe\n"
     ]
    }
   ],
   "source": [
    "class Person:\n",
    "  def __init__(self, fname, lname):\n",
    "    self.firstname = fname\n",
    "    self.lastname = lname\n",
    "\n",
    "  def printname(self):\n",
    "    print(self.firstname, self.lastname)\n",
    "\n",
    "#Use the Person class to create an object, and then execute the printname method:\n",
    "\n",
    "x = Person(\"John\", \"Doe\")\n",
    "x.printname()"
   ]
  },
  {
   "cell_type": "code",
   "execution_count": null,
   "id": "0ba7343c",
   "metadata": {},
   "outputs": [],
   "source": []
  }
 ],
 "metadata": {
  "kernelspec": {
   "display_name": "Python 3 (ipykernel)",
   "language": "python",
   "name": "python3"
  },
  "language_info": {
   "codemirror_mode": {
    "name": "ipython",
    "version": 3
   },
   "file_extension": ".py",
   "mimetype": "text/x-python",
   "name": "python",
   "nbconvert_exporter": "python",
   "pygments_lexer": "ipython3",
   "version": "3.9.13"
  }
 },
 "nbformat": 4,
 "nbformat_minor": 5
}
